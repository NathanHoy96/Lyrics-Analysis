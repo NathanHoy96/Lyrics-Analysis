{
 "cells": [
  {
   "attachments": {},
   "cell_type": "markdown",
   "metadata": {},
   "source": [
    "# Lyrics Analysis\n",
    "\n",
    "The goal of this project is to perform the following: \n",
    "\n",
    "- A exploratory analysis of the __[5 Million Songs Dataset](https://www.kaggle.com/datasets/nikhilnayak123/5-million-song-lyrics-dataset?resource=download)__\n",
    "- Build a classification model that aims to determine the genre of music given a set of lyrics\n",
    "    - Evaluate the resulting model\n",
    "- Build a generative model that produces a set of lyrics given a genre and keyword\n",
    "\n",
    "## Dataset Description\n",
    "\n",
    "The 5 Million Songs dataset is hosted on Kaggle.com. According to the dataset descriptor, the dataset contains 3,540,784 unique song titles and is scraped from __[Genius.com](https://genius.com/)__ by the dataset author, __[Nikhil Nayak](https://www.kaggle.com/nikhilnayak123)__. The dataset has the following attributes:\n",
    "\n",
    "- Title (song title)\n",
    "- Tag (genre)\n",
    "- Artist\n",
    "- Year\n",
    "- Views (of the lyrics on genius.com)\n",
    "- Features (other artists who feature on the track)\n",
    "- Lyrics\n",
    "\n",
    "The dataset itself has a uncompressed size of 9.21GB and is in a CSV format."
   ]
  },
  {
   "attachments": {},
   "cell_type": "markdown",
   "metadata": {},
   "source": [
    "## Exploratory Data Analysis (EDA)\n",
    "\n",
    "As our main focus is on the lyrics and genres, this will be the primary focus in the exploratory analysis. Due to the size of the dataset, we will be using the Modin library in place of Pandas. We will also only be loading the 'lyrics' and 'tag' columns of the dataset to save some memory (users with limitations on available memory still may wish to load a chunk of the dataset). The advantage of Modin is the syntax and functionality is the same as Pandas however, unlike Pandas, Modin automatically distributes workloads across all the cores on machine. This means we will be able to continue to use the syntax and functionality we're familiar with but with faster processing times. "
   ]
  },
  {
   "attachments": {},
   "cell_type": "markdown",
   "metadata": {},
   "source": [
    "##### Setup and Data Loading"
   ]
  },
  {
   "cell_type": "code",
   "execution_count": 17,
   "metadata": {},
   "outputs": [],
   "source": [
    "import pandas as pd\n"
   ]
  },
  {
   "cell_type": "code",
   "execution_count": 18,
   "metadata": {},
   "outputs": [],
   "source": [
    "df = pd.read_csv(\"ds2.csv\", sep = \",\" , usecols=['id','lyrics', 'tag'])"
   ]
  },
  {
   "attachments": {},
   "cell_type": "markdown",
   "metadata": {},
   "source": [
    "#### Exploring the Data"
   ]
  },
  {
   "cell_type": "code",
   "execution_count": 25,
   "metadata": {},
   "outputs": [
    {
     "data": {
      "text/html": [
       "<div>\n",
       "<style scoped>\n",
       "    .dataframe tbody tr th:only-of-type {\n",
       "        vertical-align: middle;\n",
       "    }\n",
       "\n",
       "    .dataframe tbody tr th {\n",
       "        vertical-align: top;\n",
       "    }\n",
       "\n",
       "    .dataframe thead th {\n",
       "        text-align: right;\n",
       "    }\n",
       "</style>\n",
       "<table border=\"1\" class=\"dataframe\">\n",
       "  <thead>\n",
       "    <tr style=\"text-align: right;\">\n",
       "      <th></th>\n",
       "      <th>tag</th>\n",
       "      <th>lyrics</th>\n",
       "      <th>id</th>\n",
       "    </tr>\n",
       "  </thead>\n",
       "  <tbody>\n",
       "    <tr>\n",
       "      <th>0</th>\n",
       "      <td>rap</td>\n",
       "      <td>[Chorus: Opera Steve &amp; Cam'ron]\\nKilla Cam, Ki...</td>\n",
       "      <td>1</td>\n",
       "    </tr>\n",
       "    <tr>\n",
       "      <th>1</th>\n",
       "      <td>rap</td>\n",
       "      <td>[Produced by Irv Gotti]\\n\\n[Intro]\\nYeah, hah,...</td>\n",
       "      <td>3</td>\n",
       "    </tr>\n",
       "    <tr>\n",
       "      <th>2</th>\n",
       "      <td>rap</td>\n",
       "      <td>Maybe cause I'm eatin\\nAnd these bastards fien...</td>\n",
       "      <td>4</td>\n",
       "    </tr>\n",
       "    <tr>\n",
       "      <th>3</th>\n",
       "      <td>rap</td>\n",
       "      <td>[Produced by Kanye West and Brian Miller]\\n\\n[...</td>\n",
       "      <td>5</td>\n",
       "    </tr>\n",
       "    <tr>\n",
       "      <th>4</th>\n",
       "      <td>rap</td>\n",
       "      <td>[Intro]\\nSo they ask me\\n\"Young boy\\nWhat you ...</td>\n",
       "      <td>6</td>\n",
       "    </tr>\n",
       "    <tr>\n",
       "      <th>5</th>\n",
       "      <td>rap</td>\n",
       "      <td>[Intro: Lil Wayne]\\nHaha\\nUh-huh\\nNo homo (You...</td>\n",
       "      <td>7</td>\n",
       "    </tr>\n",
       "    <tr>\n",
       "      <th>6</th>\n",
       "      <td>rap</td>\n",
       "      <td>[Intro: Pusha T]\\nNo, no, no!\\nI told you, I l...</td>\n",
       "      <td>8</td>\n",
       "    </tr>\n",
       "    <tr>\n",
       "      <th>7</th>\n",
       "      <td>rap</td>\n",
       "      <td>[Verse 1: Cam'ron]\\nKilla, Dipset\\nMan I spit ...</td>\n",
       "      <td>9</td>\n",
       "    </tr>\n",
       "    <tr>\n",
       "      <th>8</th>\n",
       "      <td>rap</td>\n",
       "      <td>[Verse 1]\\nAy yo you wonder who I are\\nI guzzl...</td>\n",
       "      <td>10</td>\n",
       "    </tr>\n",
       "    <tr>\n",
       "      <th>9</th>\n",
       "      <td>rap</td>\n",
       "      <td>[Chorus: Jaheim]\\nNow Lord you know, just how ...</td>\n",
       "      <td>11</td>\n",
       "    </tr>\n",
       "  </tbody>\n",
       "</table>\n",
       "</div>"
      ],
      "text/plain": [
       "   tag                                             lyrics  id\n",
       "0  rap  [Chorus: Opera Steve & Cam'ron]\\nKilla Cam, Ki...   1\n",
       "1  rap  [Produced by Irv Gotti]\\n\\n[Intro]\\nYeah, hah,...   3\n",
       "2  rap  Maybe cause I'm eatin\\nAnd these bastards fien...   4\n",
       "3  rap  [Produced by Kanye West and Brian Miller]\\n\\n[...   5\n",
       "4  rap  [Intro]\\nSo they ask me\\n\"Young boy\\nWhat you ...   6\n",
       "5  rap  [Intro: Lil Wayne]\\nHaha\\nUh-huh\\nNo homo (You...   7\n",
       "6  rap  [Intro: Pusha T]\\nNo, no, no!\\nI told you, I l...   8\n",
       "7  rap  [Verse 1: Cam'ron]\\nKilla, Dipset\\nMan I spit ...   9\n",
       "8  rap  [Verse 1]\\nAy yo you wonder who I are\\nI guzzl...  10\n",
       "9  rap  [Chorus: Jaheim]\\nNow Lord you know, just how ...  11"
      ]
     },
     "metadata": {},
     "output_type": "display_data"
    },
    {
     "data": {
      "text/plain": [
       "(5913411, 3)"
      ]
     },
     "metadata": {},
     "output_type": "display_data"
    },
    {
     "data": {
      "text/plain": [
       "tag          0\n",
       "lyrics    2132\n",
       "id           0\n",
       "dtype: int64"
      ]
     },
     "metadata": {},
     "output_type": "display_data"
    }
   ],
   "source": [
    "display(df.head(n=10))\n",
    "display(df.shape)\n",
    "display(df.isnull().sum())"
   ]
  },
  {
   "attachments": {},
   "cell_type": "markdown",
   "metadata": {},
   "source": [
    "Through use of ```python df.head()```, we can already gather a few considerations for the dataset. For one, the lyrics include notes for various sections of the song (intro, verse, chorus etc.). We may wish to remove these later by removing all square brackets and all text within the brackets. Addtionally, we can also see the ```\\n``` line seperator is present within the text with no spaces between the preceeding and succeeding words. We may also wish to remove these later as they may cause issues during tokenisation. \n",
    "\n",
    "The  result of ```df.shape()``` being ```(5913411, 3)``` is also far greater than the the number of unique song titles. It is likely then that there are large number of songs that share the same title. It may be the case that there is a number of duplicate values. \n",
    "\n",
    "We can also see through ```df.isnull()``` that there are 2132 records where the lyrics are missing. This is likely due to a number of songs in the dataset being instrumentals. As our focus is classifying songs based on lyrics, we shall drop these records.\n",
    "\n",
    "Finally, we see from the 'tag' column that the top 10 rows are all rap songs. After determining if there are duplicate records, we will produce a bar graph to determine the distribution of the songs by genre."
   ]
  },
  {
   "cell_type": "code",
   "execution_count": 26,
   "metadata": {},
   "outputs": [
    {
     "data": {
      "text/plain": [
       "(5911279, 3)"
      ]
     },
     "execution_count": 26,
     "metadata": {},
     "output_type": "execute_result"
    }
   ],
   "source": [
    "df.drop_duplicates(inplace=True)\n",
    "df.dropna(inplace=True)\n",
    "df.shape"
   ]
  },
  {
   "attachments": {},
   "cell_type": "markdown",
   "metadata": {},
   "source": [
    "Following the dropping duplicate and null records, we now have 5,911,279 records. This is 765,015 less than the original dataset.\n",
    "\n",
    "We will now produce a bar graph showing the distribution of songs by genre:"
   ]
  },
  {
   "cell_type": "code",
   "execution_count": 24,
   "metadata": {},
   "outputs": [
    {
     "data": {
      "text/plain": [
       "pop        2519256\n",
       "rap        1962010\n",
       "rock        892220\n",
       "rb          225342\n",
       "misc        208714\n",
       "country     105869\n",
       "Name: tag, dtype: int64"
      ]
     },
     "metadata": {},
     "output_type": "display_data"
    },
    {
     "data": {
      "text/plain": [
       "pop        0.426024\n",
       "rap        0.331790\n",
       "rock       0.150881\n",
       "rb         0.038107\n",
       "misc       0.035295\n",
       "country    0.017903\n",
       "Name: tag, dtype: float64"
      ]
     },
     "metadata": {},
     "output_type": "display_data"
    },
    {
     "data": {
      "text/plain": [
       "<Axes: >"
      ]
     },
     "execution_count": 24,
     "metadata": {},
     "output_type": "execute_result"
    },
    {
     "data": {
      "image/png": "[encoded data removed]",
      "text/plain": [
       "<Figure size 640x480 with 1 Axes>"
      ]
     },
     "metadata": {},
     "output_type": "display_data"
    }
   ],
   "source": [
    "display(df['tag'].value_counts())\n",
    "display(df['tag'].value_counts(normalize=True))\n",
    "df['tag'].value_counts().plot(kind='bar')"
   ]
  },
  {
   "attachments": {},
   "cell_type": "markdown",
   "metadata": {},
   "source": [
    "From the above graph, we can determine that 'Pop' is the majority class, representing over 40% of the dataset with 2,519,256 records. In contrast, 'Country' is the minority class, representing only 1.7% of the dataset with 105,869. It may be the case when building the classifier later, that we undersample the majority classes to match the 'Country' class in order to create a balanced dataset. The resulting dataset should still be fairly significant in size at 635,214 records (6 * 105,859)."
   ]
  }
 ],
 "metadata": {
  "kernelspec": {
   "display_name": "cuda",
   "language": "python",
   "name": "python3"
  },
  "language_info": {
   "codemirror_mode": {
    "name": "ipython",
    "version": 3
   },
   "file_extension": ".py",
   "mimetype": "text/x-python",
   "name": "python",
   "nbconvert_exporter": "python",
   "pygments_lexer": "ipython3",
   "version": "3.10.9"
  },
  "orig_nbformat": 4
 },
 "nbformat": 4,
 "nbformat_minor": 2
}
